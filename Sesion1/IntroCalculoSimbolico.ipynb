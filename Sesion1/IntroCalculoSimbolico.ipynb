{
 "cells": [
  {
   "cell_type": "markdown",
   "metadata": {},
   "source": [
    "# Introducción al Cálculo Simbólico\n",
    "*Gerardo Rivera Tello*\n",
    "*B.Sc. Physics*\n",
    "\n",
    "---"
   ]
  },
  {
   "cell_type": "markdown",
   "metadata": {},
   "source": [
    "### ¿A qué nos referimos con \"Cálculo Simbólico?\n",
    "Tambien llamado \"Computación Simbólica\", es una área que se encargar de resolver ecuaciones usando objetos matemáticos. Dicho de otro modo, es el método por el cual se obtiene una solución exacta a una expresion matemática usando expresiones simbólicas (variables, funciones, polinomios, matrices, etc.) Por ejemplo, si nos proponen calcular una integral definida de alguna función $f(x)$ , lo primero que hacemos es buscar su primitiva para luego evaluar los límites de integración, habiendo obtenido de esta manera una solución **exacta** al problema, lo que equivale al cálculo simbólico. Por otro lado, podríamos calcular dicha integral mediante procesos iterativos como el método del trapecio obteniendo un resultado **aproximado** que va acorde con la presicion de nuestro método, lo que equivale a un cálculo numérico.\n",
    "\n",
    "Otro ejemplo, tomado del [tutorial][1], es el cálculo de la raiz cuadrada. Usando la libreria `math` de python podemos obtener el resultado directo de nuestra operación.\n",
    "\n",
    "[1]: https://docs.sympy.org/latest/tutorial/intro.html"
   ]
  },
  {
   "cell_type": "code",
   "execution_count": null,
   "metadata": {},
   "outputs": [],
   "source": [
    "import math\n",
    "math.sqrt(9)"
   ]
  },
  {
   "cell_type": "markdown",
   "metadata": {},
   "source": [
    "Como 9 es un cuadrado perfecto, no podemos notar ninguna diferencia en el resultado obtenido. Ahora vamos a intentar con otro número"
   ]
  },
  {
   "cell_type": "code",
   "execution_count": null,
   "metadata": {},
   "outputs": [],
   "source": [
    "math.sqrt(8)"
   ]
  },
  {
   "cell_type": "markdown",
   "metadata": {},
   "source": [
    "Hasta aca nada del otro mundo, la respuesta obtenida es la misma que obtendríamos de una calculadora. Sin embargo, esta no es una respuesta exacta, sino una aproximada mediante métodos computacionales. Si quisieramos ser precisos, **¡nunca podríamos representar el resultado exacto con una cantidad finita de decimales!**\n",
    "\n",
    "_¿Cuál es la solución exacta?_ pues la respuesta es $2\\sqrt{2}$, un resultado proveniente de procedimientos triviales; i.e. $\\sqrt{8} = \\sqrt{2}\\sqrt{4} = 2\\sqrt{2}$ . Esto último es la esencia del cálculo simbólico."
   ]
  },
  {
   "cell_type": "markdown",
   "metadata": {},
   "source": [
    "### ¿No es mejor usar métodos numéricos?\n",
    "\n",
    "Aplicar un método numérico implica discretizar las ecuaciones de tal forma que pueda ser interpretado por la computadora en forma de bloques. Tal como se habia mencionado antes, el cálculo simbólico es como si resolviera el problema a lapiz y papel, obteniendo las funciones intermedias que corresponden a la solución exacta del problema por lo que no es necesario escribir una discretización de las ecuaciones, se introducen \"asi como están\"."
   ]
  },
  {
   "cell_type": "markdown",
   "metadata": {},
   "source": [
    "### ¿Cálculo simbólico en Python aplicado a Física Matemática?\n",
    "\n",
    "Si bien es una herramienta muy útil, tampoco es la solución definitiva a nuestro curso de pregrado. El cálculo simbólico nos puede ayudar a resolver muchas operaciones de álgebra y cálculo que encontremos en Física Matemática de manera rápida y sencilla. No obstante, muchas operaciones complejas nos resulta más facil desarrollarlas a _lapiz y papel_ en vez de digitarlos en la computadora. Esta última limitación se ira borrando conforme se familiarizen más con las librerias necesarias."
   ]
  },
  {
   "cell_type": "markdown",
   "metadata": {},
   "source": [
    "---"
   ]
  },
  {
   "cell_type": "markdown",
   "metadata": {},
   "source": [
    "## Usando Sympy"
   ]
  },
  {
   "cell_type": "markdown",
   "metadata": {},
   "source": [
    "Sympy es la librería de cálculo simbólico dentro de python. Es libre, escrito 100% en python e igual de potente que sus pares (Mathematica, Maple, etc.)\n",
    "\n",
    "#### ¿Por qué Sympy?\n",
    "[Mas info](https://docs.sympy.org/latest/tutorial/intro.html#why-sympy)"
   ]
  },
  {
   "cell_type": "markdown",
   "metadata": {},
   "source": [
    "## Bibliografía\n",
    "\n",
    "- https://sympygamma.com/\n",
    "\n",
    "- https://www.jonathangross.de/files/IPCS2017/sympy.pdf\n",
    "\n",
    "- https://docs.sympy.org/latest/index.html"
   ]
  },
  {
   "cell_type": "markdown",
   "metadata": {},
   "source": [
    "---"
   ]
  },
  {
   "cell_type": "markdown",
   "metadata": {},
   "source": [
    "## Hands on Code"
   ]
  },
  {
   "cell_type": "markdown",
   "metadata": {},
   "source": [
    "### Introducción a Sympy\n",
    "Este primera sesión servirá de introducción y base al uso de Sympy para resolver problemas de álgebra y cálculo. Al finalizar la sesión deberá ser capaz de implementar y operar ecuaciones con la fluidez que python ofrece"
   ]
  },
  {
   "cell_type": "code",
   "execution_count": null,
   "metadata": {},
   "outputs": [],
   "source": [
    "from sympy import *"
   ]
  },
  {
   "cell_type": "markdown",
   "metadata": {},
   "source": [
    "#### **1.- Variables**\n",
    "Antes iniciar a resolver un problema, uno siempre identifica cuales son las variables a tratar. Usando la misma lógica, podemos declarar nuestras variables usando Sympy mediante la función `symbols`"
   ]
  },
  {
   "cell_type": "code",
   "execution_count": null,
   "metadata": {},
   "outputs": [],
   "source": [
    "x, y, z = symbols('x y z')"
   ]
  },
  {
   "cell_type": "markdown",
   "metadata": {},
   "source": [
    "Tanto `x`, `y` y `z` son ahora objetos sobre los cuales se pueden diseñar expresiones algebraicas."
   ]
  },
  {
   "cell_type": "code",
   "execution_count": null,
   "metadata": {},
   "outputs": [],
   "source": [
    "2*x+3*y-8*z"
   ]
  },
  {
   "cell_type": "markdown",
   "metadata": {},
   "source": [
    "#### **2.- Ecuaciones**\n",
    "\n",
    "Las ecuaciones son objetos formados al combinar `Symbols` definidos previamente. Se usa el constructor `Eq` para definir una ecuacion.\n",
    "\n",
    "_Nota_\n",
    "* Al otorgar un único argumento a `Eq` se asume que la ecuación es igual a 0"
   ]
  },
  {
   "cell_type": "code",
   "execution_count": null,
   "metadata": {},
   "outputs": [],
   "source": [
    "Eq(x,2)"
   ]
  },
  {
   "cell_type": "code",
   "execution_count": null,
   "metadata": {},
   "outputs": [],
   "source": [
    "Eq(sin(x)**2+tan(y))"
   ]
  },
  {
   "cell_type": "code",
   "execution_count": null,
   "metadata": {},
   "outputs": [],
   "source": [
    "Eq(x**2+y**2,z**2)"
   ]
  },
  {
   "cell_type": "markdown",
   "metadata": {},
   "source": [
    "#### **3.- Operaciones**\n",
    "Toda operación aritmetica que definamos usando objetos de Sympy no serán evaluadas directamente, tal como lo vimos en ejemplos previos.\n",
    "Usando la función `solve` podemos resolver la mayoria de las ecuaciones de manera simbólica. Para fines practicos solo nos concentraremos en pasar una ecuación a `solve` como único argumento."
   ]
  },
  {
   "cell_type": "code",
   "execution_count": null,
   "metadata": {},
   "outputs": [],
   "source": [
    "expr = Eq(3*x**2+2*x-1)\n",
    "display(expr)\n",
    "\n",
    "print(\"Las raices son\")\n",
    "display(solve(expr))"
   ]
  },
  {
   "cell_type": "markdown",
   "metadata": {},
   "source": [
    "Ecuación ingresada:\n",
    "$$\n",
    "\\frac{5}{3}(y-2)-\\frac{4}{5}(2y-5)=4-\\frac{3}{2}(y-3)\n",
    "$$"
   ]
  },
  {
   "cell_type": "code",
   "execution_count": null,
   "metadata": {},
   "outputs": [],
   "source": [
    "expr = Eq((Integer(5)/3)*(y-2)-(Integer(4)/5)*(2*y-5),4-(Integer(3)/2)*(y-3))\n",
    "display(expr)\n",
    "\n",
    "print(\"Las raices son\")\n",
    "display(solve(expr))"
   ]
  },
  {
   "cell_type": "markdown",
   "metadata": {},
   "source": [
    "##### **3.1 Derivadas**\n",
    "Sympy es capaz de calcular derivadas usando `diff` como método sobre una expresión de Sympy o como una función. Tambien se pueden construir expresiones a derivar usando la función `Derivative` el cual mostrará el resultado solo cuando se llame al método `doit`"
   ]
  },
  {
   "cell_type": "code",
   "execution_count": null,
   "metadata": {},
   "outputs": [],
   "source": [
    "# Como función\n",
    "expr = sec(x)*exp(y)\n",
    "print(\"Derivada respecto a 'x'\")\n",
    "display(diff(expr,x))\n",
    "\n",
    "print(\"Derivadas en cadena: con respecto a 'x', luego a 'y' y nuevamente a 'x'\")\n",
    "display(diff(expr,x,y,x))"
   ]
  },
  {
   "cell_type": "code",
   "execution_count": null,
   "metadata": {},
   "outputs": [],
   "source": [
    "# Como método\n",
    "expr = 4/x - 1/(6*x**3) + 8/x**5\n",
    "print(\"Ecuación a derivar\")\n",
    "display(expr)\n",
    "\n",
    "print(\"1era derivada\")\n",
    "display(expr.diff(x))\n",
    "\n",
    "print(\"3era derivada\")\n",
    "display(expr.diff(x,x,x))\n",
    "\n",
    "print(\"7ma derivada\")\n",
    "display(expr.diff(x,7))"
   ]
  },
  {
   "cell_type": "code",
   "execution_count": null,
   "metadata": {},
   "outputs": [],
   "source": [
    "# Usando la función Derivative\n",
    "dexpr = Derivative(expr,x)\n",
    "display(dexpr)\n",
    "\n",
    "print(\"Resultado\")\n",
    "dexpr.doit()"
   ]
  },
  {
   "cell_type": "markdown",
   "metadata": {},
   "source": [
    "##### **3.2 Integrales**\n",
    "Al igual que en las derivadas, existe el método `integrate` y la función `Integral` para obtener integrales. Las integrales pueden ser evaluadas tanto indefinidas como definidas."
   ]
  },
  {
   "cell_type": "markdown",
   "metadata": {},
   "source": [
    "Evaluar la siguiente integral\n",
    "\n",
    "$$\n",
    "\\int_{0}^{\\pi/2}{sin^2(\\frac{x}{2})cos(2x)dx}\n",
    "$$\n"
   ]
  },
  {
   "cell_type": "code",
   "execution_count": null,
   "metadata": {},
   "outputs": [],
   "source": [
    "# Armamos la integral sin evaluar\n",
    "expr = Integral(cos(2*x)*sin(x/2)**2,(x,0,pi/2))\n",
    "print(\"Integral en Sympy\")\n",
    "display(expr)\n",
    "\n",
    "# JUST DO IT\n",
    "print(\"La respuesta es:\")\n",
    "display(expr.doit())"
   ]
  },
  {
   "cell_type": "code",
   "execution_count": null,
   "metadata": {},
   "outputs": [],
   "source": [
    "print(\"Función con dos variables\")\n",
    "expr = 3*x**2/(sin(y))\n",
    "display(expr)\n",
    "\n",
    "print(\"\\nIntegral indefinida con respecto a x:\")\n",
    "int_x = Integral(expr, x)\n",
    "display(int_x)\n",
    "print(\"Resultado\")\n",
    "display(int_x.doit())\n",
    "\n",
    "print(\"\\nIntegral indefinida con respecto a y:\")\n",
    "int_y = Integral(expr, y)\n",
    "display(int_y)\n",
    "print(\"Resultado\")\n",
    "display(int_y.doit())\n",
    "\n",
    "print(\"\\nDoble integral definida:\")\n",
    "int_d = Integral(expr, (x, -2, 4), (y, pi/4, pi/2))\n",
    "display(int_d)\n",
    "print(\"Resultado\")\n",
    "display(int_d.doit())"
   ]
  },
  {
   "cell_type": "markdown",
   "metadata": {},
   "source": [
    "##### **3.2 Ecuaciones Diferenciales**\n",
    "Las ecuaciones diferenciales son escritas a bases de funciones. Antes de introducir el modulo para resolver ecuaciones diferenciales ordinarias y parciales, debemos aprender como escribir ecuaciones a base de funciones. Para eso hacemos uso de la función `Function`. Tambien podemos definir varias funciones a la vez usando `symbols` con el argumento `cls=Function`"
   ]
  },
  {
   "cell_type": "code",
   "execution_count": null,
   "metadata": {},
   "outputs": [],
   "source": [
    "f, g, h = symbols('f g h', cls=Function)\n",
    "print(type(f))"
   ]
  },
  {
   "cell_type": "markdown",
   "metadata": {},
   "source": [
    "Una vez creado nuestro objeto función, debemos asignarle variables definidas dentro de Sympy"
   ]
  },
  {
   "cell_type": "code",
   "execution_count": null,
   "metadata": {},
   "outputs": [],
   "source": [
    "display(f(x))\n",
    "display(f(g(x,y)))\n",
    "display(h(x,f(y)))"
   ]
  },
  {
   "cell_type": "markdown",
   "metadata": {},
   "source": [
    "Podemos guardar esta función dentro de una variable par acceder a todos los metodos que Sympy ofrece"
   ]
  },
  {
   "cell_type": "code",
   "execution_count": null,
   "metadata": {},
   "outputs": [],
   "source": [
    "func = f(x)\n",
    "display(func)\n",
    "display(func.diff(x,3))\n",
    "display(func.integrate(x,x))"
   ]
  },
  {
   "cell_type": "markdown",
   "metadata": {},
   "source": [
    "###### **3.2.1 Ordinarias**\n",
    "Para resolver ODE usaremos la funcion `dsolve` la cual nos pide dos argumentos: la ODE y la funcion sobre la cual resovler"
   ]
  },
  {
   "cell_type": "code",
   "execution_count": null,
   "metadata": {},
   "outputs": [],
   "source": [
    "ODE = f(x).diff(x,2) + 9*f(x)\n",
    "print(\"Ecuacion de entrada\")\n",
    "display(ODE)\n",
    "\n",
    "print(\"Resultado\")\n",
    "ODE_sol = dsolve(ODE,f(x))\n",
    "display(ODE_sol)"
   ]
  },
  {
   "cell_type": "code",
   "execution_count": null,
   "metadata": {},
   "outputs": [],
   "source": [
    "ODE = Eq(f(x).diff(x),7*f(x)**2*x**3)\n",
    "print(\"Ecuacion de entrada\")\n",
    "display(ODE)\n",
    "print(\"Condicion inicial\")\n",
    "display(Eq(f(2),3))\n",
    "\n",
    "print(\"Resultado\")\n",
    "ODE_sol = dsolve(ODE,f(x),ics={f(2):3})\n",
    "display(ODE_sol)"
   ]
  },
  {
   "cell_type": "markdown",
   "metadata": {},
   "source": [
    "###### **3.2.1 Parciales**\n",
    "Para resolver PDE usaremos la funcion `pdsolve` la cual funciona de manera similar a `dsolve`"
   ]
  },
  {
   "cell_type": "code",
   "execution_count": null,
   "metadata": {},
   "outputs": [],
   "source": [
    "fxy = f(x, y)\n",
    "fdx = fxy.diff(x)\n",
    "fdy = fxy.diff(y)\n",
    "\n",
    "print(\"Ecuacion de entrada\")\n",
    "PDE = Eq(fdx/fxy+fdy/fxy+1)\n",
    "display(PDE)\n",
    "\n",
    "print(\"Resultado\")\n",
    "PDE_sol = pdsolve(PDE)\n",
    "display(PDE_sol)"
   ]
  },
  {
   "cell_type": "markdown",
   "metadata": {},
   "source": [
    "---"
   ]
  },
  {
   "cell_type": "markdown",
   "metadata": {},
   "source": [
    "**Ejemplo 1:**\n",
    "\n",
    "En electrónica, Las leyes de Kirchhoff son usadas para calcular las corrientes que van a travez de los componente en un circuito. Usando estas leyes uno obtiene al final un sistema de ecuaciones lineales, las cuales se pueden expresar en forma matricial\n",
    "\n",
    "$$\\begin{equation}\n",
    "\\begin{bmatrix}\n",
    "-13 & 2 & 4 \\\\\n",
    "2 & -11 & 6 \\\\\n",
    "4 & 6 & -15 \n",
    "\\end{bmatrix}\n",
    "\\begin{bmatrix}\n",
    "I_A \\\\\n",
    "I_B \\\\\n",
    "I_C \\\\\n",
    "\\end{bmatrix}\n",
    "=\n",
    "\\begin{bmatrix}\n",
    "5 \\\\\n",
    "-10 \\\\\n",
    "5\n",
    "\\end{bmatrix}\n",
    "\\end{equation}\\tag{1}$$\n",
    "\n",
    "El problema propuesto se puede representar de la siguiente forma"
   ]
  },
  {
   "cell_type": "code",
   "execution_count": null,
   "metadata": {},
   "outputs": [],
   "source": [
    "from sympy.matrices import Matrix\n",
    "\n",
    "# Declaramos las variables\n",
    "I_A, I_B, I_C = symbols('I_A I_B I_C')\n",
    "\n",
    "# Construimos la matriz ampliada del sistema\n",
    "print(\"Matriz ampliada\")\n",
    "M = Matrix([[-13, 2, 4, 5], \n",
    "            [2, -11, 6, -10], \n",
    "            [4, 6, -15, 5]])\n",
    "display(M)"
   ]
  },
  {
   "cell_type": "code",
   "execution_count": null,
   "metadata": {},
   "outputs": [],
   "source": [
    "solve_linear_system(M, I_A, I_B, I_C)"
   ]
  },
  {
   "cell_type": "markdown",
   "metadata": {},
   "source": [
    "---"
   ]
  },
  {
   "cell_type": "markdown",
   "metadata": {},
   "source": [
    "**Ejemplo 2:**\n",
    "\n",
    "La distribución Fermi-Dirac describe la probabilidad de encontrar una particula cuántica con spin semi-entero $(\\frac{1}{2},\\frac{3}{2},...)$ en un estado de energia $E$:\n",
    "\n",
    "$$f_{FD}=\\frac{1}{e^{(E-\\mu)/kT}+1}$$\n",
    "\n",
    "En la distribución Fermi-Dirac, $\\mu$  es llamada _energía de Fermi_, y en este caso queremos ajustar $\\mu$ de tal forma que la probabilidad total de encontrar una particula en algún lugar sea exactamente uno.\n",
    "\n",
    "$$\\int_{E_{min}}^{E_{max}}f_{FD}dE = 1$$\n",
    "\n",
    "Imagine un sistema cuántico a temperatura ambiente en donde por alguna razón la energía $E$ esta ligada entre 0 y 2 eV. ¿Cúanto vale $\\mu$ en este caso?\n",
    "\n",
    "_A temperatura ambiente, $kT \\approx \\frac{1}{40}eV$._"
   ]
  },
  {
   "cell_type": "code",
   "execution_count": null,
   "metadata": {},
   "outputs": [],
   "source": [
    "# Declaramos las variables\n",
    "E, mu = symbols('E mu')\n",
    "\n",
    "# Armamos la integral sin evaluar\n",
    "expr = Integral(1/(exp((E-mu)*40)+1),(E,0,2))\n",
    "\n",
    "print(\"Integral en Sympy\")\n",
    "display(expr)\n",
    "\n",
    "# Resolvemos la integral\n",
    "expr2 = expr.doit()\n",
    "print(\"Solución de la integral\")\n",
    "display(expr2)"
   ]
  },
  {
   "cell_type": "code",
   "execution_count": null,
   "metadata": {},
   "outputs": [],
   "source": [
    "# Armamos la igualdad\n",
    "eq1 = Eq(expr2,1)\n",
    "print(\"Ecuación a resolver\")\n",
    "display(eq1)\n",
    "\n",
    "# Resolvemos la ecuación para mu\n",
    "resl = solve(eq1,mu)\n",
    "\n",
    "# Filtramos los resultados complejos\n",
    "resl = [x for x in resl if im(x)==0]\n",
    "\n",
    "print(f\"El resultado es: {resl}\")"
   ]
  },
  {
   "cell_type": "markdown",
   "metadata": {},
   "source": [
    "------"
   ]
  },
  {
   "cell_type": "markdown",
   "metadata": {},
   "source": [
    "**Problema 1**\n",
    "\n",
    "Dada una matriz $A$ de $6x6$ con elementos $a_{ij}=0.5^{|i-j|}, i,j = 0, 1, 2, ..., 5$, encontrar $A^{-1}$ "
   ]
  },
  {
   "cell_type": "code",
   "execution_count": null,
   "metadata": {},
   "outputs": [],
   "source": []
  },
  {
   "cell_type": "markdown",
   "metadata": {},
   "source": [
    "---"
   ]
  }
 ],
 "metadata": {
  "kernelspec": {
   "display_name": "Python 3",
   "language": "python",
   "name": "python3"
  },
  "language_info": {
   "codemirror_mode": {
    "name": "ipython",
    "version": 3
   },
   "file_extension": ".py",
   "mimetype": "text/x-python",
   "name": "python",
   "nbconvert_exporter": "python",
   "pygments_lexer": "ipython3",
   "version": "3.6.7"
  }
 },
 "nbformat": 4,
 "nbformat_minor": 4
}
